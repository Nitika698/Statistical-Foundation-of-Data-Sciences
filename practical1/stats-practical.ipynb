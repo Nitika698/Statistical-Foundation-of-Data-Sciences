{
 "cells": [
  {
   "cell_type": "markdown",
   "id": "6bbe172f-5df6-45bf-a497-80d79cc9912d",
   "metadata": {},
   "source": [
    "# Problem 1:\n",
    "### Compute (a) mean, (b) median, and (c) age-weighted mean of income. Ignore NaNs where appropriate. Explain when a weighted mean is preferable. "
   ]
  },
  {
   "cell_type": "markdown",
   "id": "123b5b01-ca29-4d8c-9414-e3a21e70a958",
   "metadata": {},
   "source": [
    "#### Synthetic dataset is generated with `income` and `age` columns, including some NaN values. The goal is to compute three key statistics for the `income` data, while properly handling missing values.*"
   ]
  },
  {
   "cell_type": "markdown",
   "id": "0785e0b5-f133-4abf-b32e-53146909496b",
   "metadata": {},
   "source": [
    "- **Mean**: The average income is calculated, with NaN values excluded.\n",
    "- **Median**: The middle value of income is determined, again ignoring NaNs.\n",
    "- **Age-Weighted Mean**: Each income value is weighted by the corresponding age, normalized to sum to 1. NaN income values do not contribute to the weighted mean."
   ]
  },
  {
   "cell_type": "markdown",
   "id": "1c34cc87-0efa-4b31-bc08-d6804035527c",
   "metadata": {},
   "source": [
    "#### Weighted means are preferable when some data points are more influential or representative than others.\n",
    "> eg: weighting incomes by age could reflect the greater relevance of certain age groups in the population."
   ]
  },
  {
   "cell_type": "code",
   "execution_count": 34,
   "id": "8a3867cd-2b6a-440c-824d-d7bab2899561",
   "metadata": {},
   "outputs": [],
   "source": [
    "import numpy as np\n",
    "import pandas as pd"
   ]
  },
  {
   "cell_type": "code",
   "execution_count": 35,
   "id": "24c91d30-429f-4401-8547-652fe825b6fe",
   "metadata": {},
   "outputs": [],
   "source": [
    "np.random.seed(42)"
   ]
  },
  {
   "cell_type": "code",
   "execution_count": 36,
   "id": "c2041ff9-d005-4540-8c98-a23430f3c7d7",
   "metadata": {},
   "outputs": [],
   "source": [
    "n = 100\n",
    "ages = np.random.randint(18, 60, n)\n",
    "incomes = np.random.normal(50000, 15000, n)\n",
    "incomes[np.random.choice(n, 10, replace=False)] = np.nan"
   ]
  },
  {
   "cell_type": "code",
   "execution_count": 37,
   "id": "5c9d9798-90f0-4b35-b7ea-c4ec3775b4f7",
   "metadata": {},
   "outputs": [
    {
     "data": {
      "text/html": [
       "<div>\n",
       "<style scoped>\n",
       "    .dataframe tbody tr th:only-of-type {\n",
       "        vertical-align: middle;\n",
       "    }\n",
       "\n",
       "    .dataframe tbody tr th {\n",
       "        vertical-align: top;\n",
       "    }\n",
       "\n",
       "    .dataframe thead th {\n",
       "        text-align: right;\n",
       "    }\n",
       "</style>\n",
       "<table border=\"1\" class=\"dataframe\">\n",
       "  <thead>\n",
       "    <tr style=\"text-align: right;\">\n",
       "      <th></th>\n",
       "      <th>age</th>\n",
       "      <th>income</th>\n",
       "    </tr>\n",
       "  </thead>\n",
       "  <tbody>\n",
       "    <tr>\n",
       "      <th>0</th>\n",
       "      <td>56</td>\n",
       "      <td>47476.923679</td>\n",
       "    </tr>\n",
       "    <tr>\n",
       "      <th>1</th>\n",
       "      <td>46</td>\n",
       "      <td>67471.529683</td>\n",
       "    </tr>\n",
       "    <tr>\n",
       "      <th>2</th>\n",
       "      <td>32</td>\n",
       "      <td>46313.784689</td>\n",
       "    </tr>\n",
       "    <tr>\n",
       "      <th>3</th>\n",
       "      <td>25</td>\n",
       "      <td>38454.983395</td>\n",
       "    </tr>\n",
       "    <tr>\n",
       "      <th>4</th>\n",
       "      <td>38</td>\n",
       "      <td>68182.585132</td>\n",
       "    </tr>\n",
       "    <tr>\n",
       "      <th>...</th>\n",
       "      <td>...</td>\n",
       "      <td>...</td>\n",
       "    </tr>\n",
       "    <tr>\n",
       "      <th>95</th>\n",
       "      <td>59</td>\n",
       "      <td>42163.077807</td>\n",
       "    </tr>\n",
       "    <tr>\n",
       "      <th>96</th>\n",
       "      <td>56</td>\n",
       "      <td>50195.508496</td>\n",
       "    </tr>\n",
       "    <tr>\n",
       "      <th>97</th>\n",
       "      <td>58</td>\n",
       "      <td>55666.543880</td>\n",
       "    </tr>\n",
       "    <tr>\n",
       "      <th>98</th>\n",
       "      <td>45</td>\n",
       "      <td>NaN</td>\n",
       "    </tr>\n",
       "    <tr>\n",
       "      <th>99</th>\n",
       "      <td>24</td>\n",
       "      <td>57523.945480</td>\n",
       "    </tr>\n",
       "  </tbody>\n",
       "</table>\n",
       "<p>100 rows × 2 columns</p>\n",
       "</div>"
      ],
      "text/plain": [
       "    age        income\n",
       "0    56  47476.923679\n",
       "1    46  67471.529683\n",
       "2    32  46313.784689\n",
       "3    25  38454.983395\n",
       "4    38  68182.585132\n",
       "..  ...           ...\n",
       "95   59  42163.077807\n",
       "96   56  50195.508496\n",
       "97   58  55666.543880\n",
       "98   45           NaN\n",
       "99   24  57523.945480\n",
       "\n",
       "[100 rows x 2 columns]"
      ]
     },
     "execution_count": 37,
     "metadata": {},
     "output_type": "execute_result"
    }
   ],
   "source": [
    "df = pd.DataFrame({'age': ages, 'income': incomes})\n",
    "df"
   ]
  },
  {
   "cell_type": "markdown",
   "id": "83e48981-e682-4069-88a5-9bd481d603d1",
   "metadata": {},
   "source": [
    "### (a) mean"
   ]
  },
  {
   "cell_type": "code",
   "execution_count": 38,
   "id": "d9b114a8-d653-46d6-b9df-ebcf8f2faa51",
   "metadata": {},
   "outputs": [
    {
     "name": "stdout",
     "output_type": "stream",
     "text": [
      "Mean Income: 50101.079120515446\n"
     ]
    }
   ],
   "source": [
    "mean_income = df['income'].mean()\n",
    "print(\"Mean Income:\", mean_income)"
   ]
  },
  {
   "cell_type": "markdown",
   "id": "1696e19b-c7d3-420e-ac1e-10100e67da1d",
   "metadata": {},
   "source": [
    "### (b) median"
   ]
  },
  {
   "cell_type": "code",
   "execution_count": 39,
   "id": "d04ec3eb-dcf0-415e-ae7b-37f534a937e9",
   "metadata": {},
   "outputs": [
    {
     "name": "stdout",
     "output_type": "stream",
     "text": [
      "Median Income: 49719.76839237093\n"
     ]
    }
   ],
   "source": [
    "median_income = df['income'].median()\n",
    "print(\"Median Income:\", median_income)"
   ]
  },
  {
   "cell_type": "markdown",
   "id": "0cea9c36-5fe9-45fe-9252-f318d760ef68",
   "metadata": {},
   "source": [
    "### (c) age-weighted mean of income"
   ]
  },
  {
   "cell_type": "code",
   "execution_count": 40,
   "id": "7d0ba7ce-bc92-4c2a-a47f-606fbc1bd912",
   "metadata": {},
   "outputs": [
    {
     "name": "stdout",
     "output_type": "stream",
     "text": [
      "Weighted Mean Income: 45826.22405033739\n"
     ]
    }
   ],
   "source": [
    "age_weights = df['age'] / df['age'].sum()\n",
    "weighted_mean_income = np.nansum(df['income'] * age_weights)\n",
    "print(\"Weighted Mean Income:\", weighted_mean_income)"
   ]
  },
  {
   "cell_type": "markdown",
   "id": "6d289b73-7457-4866-8a32-7d4ac09b92fc",
   "metadata": {},
   "source": [
    "***"
   ]
  },
  {
   "cell_type": "markdown",
   "id": "38b43126-be66-45ff-bf9e-2ee9261915d3",
   "metadata": {},
   "source": [
    "# Problem 2:\n",
    "### Standardize income (z-score). Report how many incomes are outliers using rule |z| > 3. Handle NaNs correctly (do not drop entire rows unnecessarily).\n"
   ]
  },
  {
   "cell_type": "markdown",
   "id": "3640b3a8-a43c-48ff-aa3b-2d2cfa3c0f24",
   "metadata": {},
   "source": [
    "#### `income` values are standardized using Z-scores, and outliers are identified. Any NaN (missing) values in the dataset are handled correctly, so no rows are dropped unnecessarily.\n",
    "\n",
    "#### Steps and Explanation\n",
    "\n",
    "- **Z-Score Calculation**: Each income value is standardized by subtracting the mean and dividing by the standard deviation. Missing values (NaN) are ignored for these calculations.\n",
    "- **Outlier Detection**: Values are considered outliers if their Z-score absolute value exceeds 3 (i.e., \\(|z| > 3\\)).\n",
    "- **Handling NaNs**: Calculations are performed without dropping rows with NaNs; only valid income values are included.\n",
    "\n",
    "> Z-score standardization enables a consistent scale for identifying unusually high or low values relative to the rest of the data. The common threshold \\(|z| > 3\\) marks statistical outliers.\n"
   ]
  },
  {
   "cell_type": "code",
   "execution_count": 41,
   "id": "1db730d2-e836-4838-be58-f3d293d181a4",
   "metadata": {},
   "outputs": [],
   "source": [
    "# Problem 2: Z-score standardization\n",
    "income_clean = df['income'].dropna()\n",
    "mean_inc = income_clean.mean()\n",
    "std_inc = income_clean.std()\n",
    "z_scores = (df['income'] - mean_inc) / std_inc"
   ]
  },
  {
   "cell_type": "code",
   "execution_count": 42,
   "id": "2428b155-e05b-41aa-ae7f-3c8b16c1d5c5",
   "metadata": {},
   "outputs": [
    {
     "name": "stdout",
     "output_type": "stream",
     "text": [
      "Number of outliers: 0\n"
     ]
    }
   ],
   "source": [
    "# Outlier detection (|z| > 3)\n",
    "outliers = z_scores.abs() > 3\n",
    "num_outliers = outliers.sum()\n",
    "print(\"Number of outliers:\", num_outliers)"
   ]
  },
  {
   "cell_type": "markdown",
   "id": "d0a7569e-4b19-48e5-85f1-14343284dd65",
   "metadata": {},
   "source": [
    "***"
   ]
  },
  {
   "cell_type": "markdown",
   "id": "36bb9cd9-b323-4dd8-801a-99d553bb1e41",
   "metadata": {},
   "source": [
    "# Problem 3:\n",
    "### Create age bins: [18-25), [25-35), [35-45), [45-60) and compute for each bin:\n",
    "- count of observations,\n",
    "- mean income,\n",
    "- median score.\n",
    "> Show result as a tidy DataFrame sorted by age bin.\n",
    "\n"
   ]
  },
  {
   "cell_type": "markdown",
   "id": "b73e6b60-ef0e-42a5-b03e-e51c6ebcd098",
   "metadata": {},
   "source": [
    "#### This problem involves grouping observations into specific age bins and calculating key statistics for each group. The dataset contains some missing income values (NaNs), which are handled appropriately during aggregation.\n",
    "\n",
    "## Tasks\n",
    "\n",
    "- Create age bins with intervals:  \n",
    "  - [18, 25)  \n",
    "  - [25, 35)  \n",
    "  - [35, 45)  \n",
    "  - [45, 60)\n",
    "- For each bin, compute:\n",
    "  - Count of observations (non-NaN incomes)\n",
    "  - Mean income\n",
    "  - Median income\n",
    "- Present the result as a tidy DataFrame sorted by age bin.\n"
   ]
  },
  {
   "cell_type": "code",
   "execution_count": 43,
   "id": "c52c25c0-e493-4ab4-9d97-739331930327",
   "metadata": {},
   "outputs": [],
   "source": [
    "bins = [18, 25, 35, 45, 60]\n",
    "labels = [\"18-25\", \"25-35\", \"35-45\", \"45-60\"]"
   ]
  },
  {
   "cell_type": "code",
   "execution_count": 44,
   "id": "0e5322aa-6d4e-427c-b004-b4b4c7d48cfe",
   "metadata": {},
   "outputs": [],
   "source": [
    "df['age_bin'] = pd.cut(df['age'], bins=bins, labels=labels, right=False)"
   ]
  },
  {
   "cell_type": "code",
   "execution_count": 45,
   "id": "0ad133a2-a6ba-4794-b1c0-762ee705d267",
   "metadata": {},
   "outputs": [
    {
     "name": "stdout",
     "output_type": "stream",
     "text": [
      "  age_bin  count   mean_income  median_income\n",
      "0   18-25     17  46078.737214   46127.228022\n",
      "1   25-35     22  47393.526164   48999.847420\n",
      "2   35-45     22  49184.025233   49235.238427\n",
      "3   45-60     29  55208.705431   55666.543880\n"
     ]
    }
   ],
   "source": [
    "agg_df = df.groupby('age_bin', observed=False).agg(\n",
    "    count=('income', 'count'),\n",
    "    mean_income=('income', 'mean'),\n",
    "    median_income=('income', 'median')\n",
    ").reset_index().sort_values('age_bin')\n",
    "\n",
    "print(agg_df)"
   ]
  },
  {
   "cell_type": "markdown",
   "id": "b77ceab2-3066-4469-8f5c-6d1e49ec64f9",
   "metadata": {},
   "source": [
    "***"
   ]
  },
  {
   "cell_type": "markdown",
   "id": "65b57a72-d1be-4ee7-b432-4d28ea1f7cb6",
   "metadata": {},
   "source": [
    "# Problem 4: \n",
    "### Create an array it cannot be of 1 Dimension. And then showcase the operation for the following:\n",
    "- Shape and Resize → shape, size, Transpose, Flatten\n",
    "- Showcasing negative indexing and display error while doing slicing\n",
    "- Arithmetic Operations → Broadcasting, Dot Product\n",
    "- Linear Algebra → Determinant, Inverse"
   ]
  },
  {
   "cell_type": "markdown",
   "id": "c6d22e51-b0cd-4cef-824e-6cd56d1bdd35",
   "metadata": {},
   "source": [
    "### This problem demonstrates various operations on NumPy arrays, including working with multi-dimensional arrays, shape manipulation, indexing, arithmetic operations, and linear algebra functions.\n",
    "\n",
    "## Tasks and Operations"
   ]
  },
  {
   "cell_type": "markdown",
   "id": "f683bf7c-2924-4dda-a25d-5885df071deb",
   "metadata": {},
   "source": [
    "### 1. Create a Multi-Dimensional Array\n",
    "> Create an array with more than one dimension (e.g., 2D array):"
   ]
  },
  {
   "cell_type": "code",
   "execution_count": 46,
   "id": "e283bed5-7a16-4a9d-8d27-26ab6d2e8803",
   "metadata": {},
   "outputs": [
    {
     "name": "stdout",
     "output_type": "stream",
     "text": [
      "array:\n",
      " [[7 7 3 2]\n",
      " [9 8 7 9]\n",
      " [4 4 1 8]]\n"
     ]
    }
   ],
   "source": [
    "import numpy as np\n",
    "arr = np.random.randint(1, 10, (3, 4))\n",
    "\n",
    "print(\"array:\\n\", arr)"
   ]
  },
  {
   "cell_type": "markdown",
   "id": "16fc2a2b-bcbe-4a9c-9622-6872d38ae746",
   "metadata": {},
   "source": [
    "### 2. Shape and Resize Operations\n",
    "> Display the shape, size, transpose, and flattened versions of the array:"
   ]
  },
  {
   "cell_type": "code",
   "execution_count": 47,
   "id": "cc53cac7-4f32-4122-8f15-4e100099a09b",
   "metadata": {},
   "outputs": [
    {
     "name": "stdout",
     "output_type": "stream",
     "text": [
      "Shape: (3, 4)\n",
      "Size: 12\n",
      "Transposed: [[7 9 4]\n",
      " [7 8 4]\n",
      " [3 7 1]\n",
      " [2 9 8]]\n",
      "Flattened: [7 7 3 2 9 8 7 9 4 4 1 8]\n"
     ]
    }
   ],
   "source": [
    "print(\"Shape:\", arr.shape)\n",
    "print(\"Size:\", arr.size)\n",
    "print(\"Transposed:\", arr.T)\n",
    "print(\"Flattened:\", arr.flatten())"
   ]
  },
  {
   "cell_type": "markdown",
   "id": "86e95dbe-dfee-4fbf-8723-a9334553505e",
   "metadata": {},
   "source": [
    "### 3. Negative Indexing and Slicing Error\n",
    "> Use negative indexing to access elements from the end.\n",
    "> deliberately access out-of-bounds slice to show an error:"
   ]
  },
  {
   "cell_type": "code",
   "execution_count": 48,
   "id": "e5dd8dbb-02e1-4e14-a0e9-1a0c275db851",
   "metadata": {},
   "outputs": [
    {
     "name": "stdout",
     "output_type": "stream",
     "text": [
      "Last row: [4 4 1 8]\n",
      "Slicing error: index 10 is out of bounds for axis 1 with size 4\n"
     ]
    }
   ],
   "source": [
    "print(\"Last row:\", arr[-1])\n",
    "\n",
    "try:\n",
    "    slice_error = arr[:, 10]\n",
    "except Exception as e:\n",
    "    print(\"Slicing error:\", e)"
   ]
  },
  {
   "cell_type": "markdown",
   "id": "69ab152d-f182-4cdf-96d3-b702eff2261c",
   "metadata": {},
   "source": [
    "### 4. Arithmetic Operations\n",
    "> Broadcasting example: adding a 3x1 array to the original 3x4 array\n",
    "> Dot product of the original array with its transpose:"
   ]
  },
  {
   "cell_type": "code",
   "execution_count": 49,
   "id": "1ed41ceb-2746-46e1-b35b-aff7a9f73ee3",
   "metadata": {},
   "outputs": [
    {
     "name": "stdout",
     "output_type": "stream",
     "text": [
      "Broadcasted:\n",
      " [[10 10  6  5]\n",
      " [16 15 14 16]\n",
      " [ 6  6  3 10]]\n",
      "Dot Product:\n",
      " [[111 158  75]\n",
      " [158 275 147]\n",
      " [ 75 147  97]]\n"
     ]
    }
   ],
   "source": [
    "arr2 = np.random.randint(1, 10, (3, 1))\n",
    "broadcasted = arr + arr2 \n",
    "print(\"Broadcasted:\\n\", broadcasted)\n",
    "dot_product = np.dot(arr, arr.T)\n",
    "print(\"Dot Product:\\n\", dot_product)"
   ]
  },
  {
   "cell_type": "markdown",
   "id": "210d459b-fe37-4c90-a4c5-a50c266d0536",
   "metadata": {},
   "source": [
    "### 5. Linear Algebra: Determinant and Inverse\n",
    "> Compute determinant and inverse of a square matrix (3x3):"
   ]
  },
  {
   "cell_type": "code",
   "execution_count": 50,
   "id": "83eb398e-47da-4edc-be7b-04852d03bdb6",
   "metadata": {},
   "outputs": [
    {
     "name": "stdout",
     "output_type": "stream",
     "text": [
      "Square Array:\n",
      " [[2 7 6]\n",
      " [3 9 6]\n",
      " [6 1 4]]\n",
      "Determinant: -78.0\n",
      "Inverse:\n",
      " [[-0.38461538  0.28205128  0.15384615]\n",
      " [-0.30769231  0.35897436 -0.07692308]\n",
      " [ 0.65384615 -0.51282051  0.03846154]]\n"
     ]
    }
   ],
   "source": [
    "square_arr = np.random.randint(1, 10, (3, 3))\n",
    "det = np.linalg.det(square_arr)\n",
    "inverse = np.linalg.inv(square_arr)\n",
    "\n",
    "print(\"Square Array:\\n\", square_arr)\n",
    "print(\"Determinant:\", det)\n",
    "print(\"Inverse:\\n\", inverse)\n"
   ]
  },
  {
   "cell_type": "markdown",
   "id": "e8999cfc-d7a3-47d4-81e3-93351143138c",
   "metadata": {},
   "source": [
    "***"
   ]
  },
  {
   "cell_type": "code",
   "execution_count": null,
   "id": "d2490052-5bb9-4fa6-adc2-5133441995f9",
   "metadata": {},
   "outputs": [],
   "source": []
  }
 ],
 "metadata": {
  "kernelspec": {
   "display_name": "Python 3",
   "language": "python",
   "name": "python3"
  },
  "language_info": {
   "codemirror_mode": {
    "name": "ipython",
    "version": 3
   },
   "file_extension": ".py",
   "mimetype": "text/x-python",
   "name": "python",
   "nbconvert_exporter": "python",
   "pygments_lexer": "ipython3",
   "version": "3.13.5"
  }
 },
 "nbformat": 4,
 "nbformat_minor": 5
}
